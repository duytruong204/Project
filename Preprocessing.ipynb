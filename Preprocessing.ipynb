{
  "nbformat": 4,
  "nbformat_minor": 0,
  "metadata": {
    "colab": {
      "name": "sprint 1 and sprint 2 - preprocess.ipynb",
      "provenance": [],
      "authorship_tag": "ABX9TyPagEeODyIJK4TDTDv3Kn8o",
      "include_colab_link": true
    },
    "kernelspec": {
      "name": "python3",
      "display_name": "Python 3"
    },
    "language_info": {
      "name": "python"
    }
  },
  "cells": [
    {
      "cell_type": "markdown",
      "metadata": {
        "id": "view-in-github",
        "colab_type": "text"
      },
      "source": [
        "<a href=\"https://colab.research.google.com/github/duytruong204/Project/blob/main/Preprocessing.ipynb\" target=\"_parent\"><img src=\"https://colab.research.google.com/assets/colab-badge.svg\" alt=\"Open In Colab\"/></a>"
      ]
    },
    {
      "cell_type": "code",
      "metadata": {
        "id": "u-gaas9RaPFp",
        "colab": {
          "base_uri": "https://localhost:8080/"
        },
        "outputId": "2d2283c6-fe7c-4d06-88f2-0d9aee5c39f6"
      },
      "source": [
        "#my code\n",
        "## elements là mảng chứa thông tin về tất cả các button và block (có thể có logo nữa: tạm thời chưa xét logo)\n",
        "# mỗi phần tử của mảng gồm 5 thành phần tương ứng với các index:\n",
        "#           - index 0: thể hiện loại của đối tượng: 0 là button, 1 là logo, 2 là block\n",
        "#           - index 1: chiều rộng đối tượng; index 2: chiều cao đối tượng\n",
        "#           - index 3: mảng chứa các màu có trong button với độ bao phủ kèm theo\n",
        "#           - index 4: bán kính bo góc của phần tử (là số thực từ 0 đến 0.5: từ vuông đến tròn hoàn toàn)\n",
        "## colors là mảng chứa tất cả các màu với % độ bao phủ, trừ màu neutral và màu trong real image\n",
        "## neutralColors là mảng chứa tất cả các màu neutral với % độ bao phủ\n",
        "## chỉ lấy button\n",
        "!pip install colour"
      ],
      "execution_count": 64,
      "outputs": [
        {
          "output_type": "stream",
          "text": [
            "Requirement already satisfied: colour in /usr/local/lib/python3.7/dist-packages (0.1.5)\n"
          ],
          "name": "stdout"
        }
      ]
    },
    {
      "cell_type": "markdown",
      "metadata": {
        "id": "0_zTWeLrKoFp"
      },
      "source": [
        "#Library"
      ]
    },
    {
      "cell_type": "code",
      "metadata": {
        "id": "AG9BHyQiulTj"
      },
      "source": [
        "import pandas as pd\n",
        "from colour import Color\n",
        "import math\n",
        "import time\n",
        "import numpy as np"
      ],
      "execution_count": 65,
      "outputs": []
    },
    {
      "cell_type": "markdown",
      "metadata": {
        "id": "FyQd1dtIKjo7"
      },
      "source": [
        "#Function"
      ]
    },
    {
      "cell_type": "code",
      "metadata": {
        "id": "UQsz5Hdf_lxR"
      },
      "source": [
        "def to_list(mydataframe):\n",
        "  color_of_button = mydataframe.iloc[:, [1]].values \n",
        "  list_of_button = []\n",
        "  list_color = []\n",
        "  for i in range(color_of_button.shape[0]): \n",
        "    list_of_button.append(color_of_button[i][0])\n",
        "  for i in range(len(list_of_button)):\n",
        "    for j in range(len(list_of_button[i])):\n",
        "      list_color.append(list_of_button[i][j])\n",
        "  return list_color"
      ],
      "execution_count": 66,
      "outputs": []
    },
    {
      "cell_type": "code",
      "metadata": {
        "id": "PwmvVsLvWNao"
      },
      "source": [
        "def turn_none(element):\n",
        "  if element is None:\n",
        "    return []\n",
        "  else:\n",
        "    return element"
      ],
      "execution_count": 67,
      "outputs": []
    },
    {
      "cell_type": "code",
      "metadata": {
        "id": "4HIaw9IUWo6A"
      },
      "source": [
        "def make_second(list1,list2,list3):\n",
        "  sum = []\n",
        "  a = []\n",
        "  sum = turn_none(list1) + turn_none(list2) + turn_none(list3)\n",
        "  for i in range(len(sum)):\n",
        "    a.append(sum[i][0])\n",
        "  return a"
      ],
      "execution_count": 68,
      "outputs": []
    },
    {
      "cell_type": "code",
      "metadata": {
        "id": "OHYzK0t7hjeM"
      },
      "source": [
        "def soft_coverage(list):\n",
        "  if list is None:\n",
        "    return None\n",
        "  else:\n",
        "    data_list = pd.DataFrame(list, columns=['Color','coverage'])\n",
        "    data_list = data_list.sort_values(by=['coverage'],ascending=False)#sort\n",
        "    return coverage_to_list(data_list)"
      ],
      "execution_count": 69,
      "outputs": []
    },
    {
      "cell_type": "code",
      "metadata": {
        "id": "6Dbw52F2Jc3q"
      },
      "source": [
        "def delete_element(list1,list2):\n",
        "  a = []\n",
        "  b = []\n",
        "  if list2 is None:\n",
        "    return list1\n",
        "  else:\n",
        "    for i in range(len(list2)):\n",
        "      b.append(list2[i][0])\n",
        "    for i in range(len(list1)):\n",
        "      if (list1[i][0] in b):\n",
        "        a.append(list1[i]);\n",
        "  if len(a) == 0:\n",
        "    return None\n",
        "  return a"
      ],
      "execution_count": 70,
      "outputs": []
    },
    {
      "cell_type": "code",
      "metadata": {
        "id": "E24dBDnlZXI4"
      },
      "source": [
        "def rest_element(list1,list2):\n",
        "  a = []\n",
        "  b = []\n",
        "  if list2 is None:\n",
        "    return None\n",
        "  elif list1 is None:\n",
        "    return list2 \n",
        "  else:\n",
        "    for i in range(len(list1)):\n",
        "      b.append(list1[i][0])\n",
        "    for i in range(len(list2)):\n",
        "      if not list2[i][0] in b:\n",
        "        a.append(list2[i]);\n",
        "  if len(a) == 0:\n",
        "    return None\n",
        "  return a "
      ],
      "execution_count": 71,
      "outputs": []
    },
    {
      "cell_type": "code",
      "metadata": {
        "colab": {
          "base_uri": "https://localhost:8080/"
        },
        "id": "Zbh7XcRXbyf-",
        "outputId": "a12ca129-b425-4750-9e5b-8d6ab3a3d34c"
      },
      "source": [
        "rest_element([(2,0)],[(3,0),(4,0),(2,0)])"
      ],
      "execution_count": 72,
      "outputs": [
        {
          "output_type": "execute_result",
          "data": {
            "text/plain": [
              "[(3, 0), (4, 0)]"
            ]
          },
          "metadata": {
            "tags": []
          },
          "execution_count": 72
        }
      ]
    },
    {
      "cell_type": "code",
      "metadata": {
        "id": "xXLj2DItEBzt"
      },
      "source": [
        "def coverage_to_list(mydataframe):\n",
        "  list_color = []\n",
        "  for i in range(mydataframe.shape[0]):\n",
        "    list_color.append([mydataframe.iloc[:, [0,1]].values[i][0],mydataframe.iloc[:, [0,1]].values[i][1]])\n",
        "  return list_color"
      ],
      "execution_count": 73,
      "outputs": []
    },
    {
      "cell_type": "code",
      "metadata": {
        "id": "gdIBA1iomTCy"
      },
      "source": [
        "def palette_type(list_primary,list_secondary):\n",
        "  if list_primary == [[]]:\n",
        "    return ['nothing']\n",
        "  elif len(list_primary) == 1 and len(list_secondary[0][0:5]) == 0:\n",
        "    return ['Monotune']\n",
        "  elif len(list_primary) == 1 and len(list_secondary[0][0:5]) == 1:\n",
        "    return ['Duetune']\n",
        "  elif len(list_primary) == 1 and len(list_secondary[0][0:5]) >= 2:\n",
        "    return ['Colorful']"
      ],
      "execution_count": 74,
      "outputs": []
    },
    {
      "cell_type": "code",
      "metadata": {
        "id": "hRGaO09UerJJ"
      },
      "source": [
        "def main_take_color(elements,colors,data_list):\n",
        "  list_primary = []\n",
        "  list_secondary = []\n",
        "  ##take primary color\n",
        "  new_element = pd.DataFrame(elements, columns=['Type', 'Width ', 'Height','Color of Button',\"Radius\"])\n",
        "  new_element['Area'] = (new_element.iloc[:, [1]].values * new_element.iloc[:, [2]].values )\n",
        "  just_button = new_element[['Type', 'Color of Button','Area']].loc[new_element['Type'] == 0]#get button\n",
        "  just_biggest_button = just_button.loc[just_button['Area'] == just_button['Area'].max()]#getmax\n",
        "  list_color_of_button = pd.DataFrame(to_list(just_biggest_button), columns=['Color', 'coverage'])\n",
        "  list_color_of_button = list_color_of_button.loc[list_color_of_button['coverage'] == list_color_of_button['coverage'].max()]\n",
        "  color_coverage = pd.DataFrame(colors,columns=['Color',\"coverage\"])\n",
        "  color_coverage = color_coverage.loc[color_coverage['coverage'] == color_coverage['coverage'].max()]\n",
        "  if list_color_of_button.shape[0] == 1:\n",
        "    primary = list_color_of_button.iloc[[0],[0]].values[0][0] \n",
        "    list_primary.append(list_color_of_button.iloc[[0],[0]].values[0][0])\n",
        "  elif color_coverage.shape[0] == 1:\n",
        "    primary = color_coverage.iloc[[0],[0]].values[0][0]\n",
        "    list_primary.append(color_coverage.iloc[[0],[0]].values[0][0])\n",
        "  else:\n",
        "    primary = None\n",
        "    list_primary = [[]]\n",
        "  ##take secondary\n",
        "  #list of button\n",
        "  list_color_of_button = pd.DataFrame(to_list(just_button), columns=['Color', 'coverage'])\n",
        "  list_color_of_button = list_color_of_button.loc[list_color_of_button['Color'] != primary]#exclude primary\n",
        "  list_color_of_button = list_color_of_button.sort_values(by=['coverage'],ascending=False)#sort\n",
        "  #color\n",
        "  color_coverage = pd.DataFrame(colors,columns=['Color',\"coverage\"])\n",
        "  color = color_coverage.loc[color_coverage['Color'] != primary]#exclude primary\n",
        "  color = color.sort_values(by=['coverage'],ascending=False)#sort\n",
        "  color_list = delete_element(coverage_to_list(color),coverage_to_list(list_color_of_button))\n",
        "  color_logo = None\n",
        "  rest_of_color = rest_element(color_list,coverage_to_list(color))\n",
        "  list_secondary.append(make_second(soft_coverage(color_list),soft_coverage(color_logo),soft_coverage(rest_of_color)))\n",
        "  ##get palette\n",
        "  data_list.append(tuple(list_primary+[list_secondary[0][0:5]]+palette_type(list_primary,list_secondary)))"
      ],
      "execution_count": 75,
      "outputs": []
    },
    {
      "cell_type": "markdown",
      "metadata": {
        "id": "iDERkP_KerlJ"
      },
      "source": [
        "#**MAIN**"
      ]
    },
    {
      "cell_type": "code",
      "metadata": {
        "id": "5j6_CNa2jCd_"
      },
      "source": [
        "data_list = []#we're gonna store data on this"
      ],
      "execution_count": 76,
      "outputs": []
    },
    {
      "cell_type": "code",
      "metadata": {
        "id": "5o7GCMVRi47D"
      },
      "source": [
        "elements = [(0,\n",
        "  152,\n",
        "  32,\n",
        "  [((27, 91, 61), 0.8577302631579029),\n",
        "   ((33, 100, 72), 0.01562500000000001),\n",
        "   ((42, 100, 90), 0.001850328947368421),\n",
        "   ((21, 96, 81), 0.00041118421052631577)],\n",
        "  'None'),\n",
        " (0,\n",
        "  26,\n",
        "  25,\n",
        "  [((28, 71, 61), 0.8384615384615283),\n",
        "   ((34, 100, 79), 0.03846153846153845),\n",
        "   ((22, 66, 61), 0.007692307692307693),\n",
        "   ((42, 100, 83), 0.007692307692307693)],\n",
        "  'None')]\n",
        "colors = [((27, 91, 61), 0.011777083333332926),\n",
        " ((193, 100, 88), 0.0006104166666666641),\n",
        " ((33, 100, 72), 0.0004729166666666653),\n",
        " ((58, 84, 68), 0.0009333333333333288),\n",
        " ((17, 81, 70), 0.00016874999999999976),\n",
        " ((197, 82, 87), 0.00021874999999999954),\n",
        " ((63, 79, 67), 7.500000000000002e-05),\n",
        " ((49, 82, 78), 0.00019374999999999964),\n",
        " ((9, 89, 86), 4.583333333333335e-05),\n",
        " ((5, 92, 90), 6.25e-06),\n",
        " ((181, 100, 91), 2.0833333333333334e-06)]"
      ],
      "execution_count": 77,
      "outputs": []
    },
    {
      "cell_type": "code",
      "metadata": {
        "id": "el0NAMRyiynL",
        "colab": {
          "base_uri": "https://localhost:8080/"
        },
        "outputId": "1672dba6-74d9-42fc-cf5d-425cd8df6e5e"
      },
      "source": [
        "t = time.time()\n",
        "main_take_color(elements,colors,data_list)\n",
        "main_data = pd.DataFrame(data_list,columns=['Primary','Secondary','Palette type'])\n",
        "print(f'Runtime: {time.time()-t}')"
      ],
      "execution_count": 78,
      "outputs": [
        {
          "output_type": "stream",
          "text": [
            "Runtime: 0.06324553489685059\n"
          ],
          "name": "stdout"
        }
      ]
    },
    {
      "cell_type": "code",
      "metadata": {
        "id": "1Q8pgcXmjG5Q",
        "colab": {
          "base_uri": "https://localhost:8080/",
          "height": 77
        },
        "outputId": "84ff98a9-74dd-434f-e39f-1a242f1c4684"
      },
      "source": [
        "#data color of domain\n",
        "main_data.head()"
      ],
      "execution_count": 79,
      "outputs": [
        {
          "output_type": "execute_result",
          "data": {
            "text/html": [
              "<div>\n",
              "<style scoped>\n",
              "    .dataframe tbody tr th:only-of-type {\n",
              "        vertical-align: middle;\n",
              "    }\n",
              "\n",
              "    .dataframe tbody tr th {\n",
              "        vertical-align: top;\n",
              "    }\n",
              "\n",
              "    .dataframe thead th {\n",
              "        text-align: right;\n",
              "    }\n",
              "</style>\n",
              "<table border=\"1\" class=\"dataframe\">\n",
              "  <thead>\n",
              "    <tr style=\"text-align: right;\">\n",
              "      <th></th>\n",
              "      <th>Primary</th>\n",
              "      <th>Secondary</th>\n",
              "      <th>Palette type</th>\n",
              "    </tr>\n",
              "  </thead>\n",
              "  <tbody>\n",
              "    <tr>\n",
              "      <th>0</th>\n",
              "      <td>(27, 91, 61)</td>\n",
              "      <td>[(33, 100, 72), (58, 84, 68), (193, 100, 88), ...</td>\n",
              "      <td>Colorful</td>\n",
              "    </tr>\n",
              "  </tbody>\n",
              "</table>\n",
              "</div>"
            ],
            "text/plain": [
              "        Primary                                          Secondary Palette type\n",
              "0  (27, 91, 61)  [(33, 100, 72), (58, 84, 68), (193, 100, 88), ...     Colorful"
            ]
          },
          "metadata": {
            "tags": []
          },
          "execution_count": 79
        }
      ]
    },
    {
      "cell_type": "markdown",
      "metadata": {
        "id": "sJpatpIvytTV"
      },
      "source": [
        "#Take primary color"
      ]
    },
    {
      "cell_type": "markdown",
      "metadata": {
        "id": "2XFE84qMIfPh"
      },
      "source": [
        "##Turn to dataframe and take only the biggest button\n",
        "\n"
      ]
    },
    {
      "cell_type": "code",
      "metadata": {
        "id": "6Q7urslUIebs",
        "colab": {
          "base_uri": "https://localhost:8080/",
          "height": 106
        },
        "outputId": "b77b6fda-1196-432e-9b75-302245238de6"
      },
      "source": [
        "list_primary = []\n",
        "list_secondary = []\n",
        "new_element = pd.DataFrame(elements, columns=['Type', 'Width ', 'Height','Color of Button',\"Radius\"])\n",
        "width = new_element.iloc[:, [1]].values  \n",
        "height = new_element.iloc[:, [2]].values  \n",
        "area = (width*height)\n",
        "new_element['Area'] = area\n",
        "just_button = new_element[['Type', 'Color of Button','Area']].loc[new_element['Type'] == 0]\n",
        "just_button.head()"
      ],
      "execution_count": 80,
      "outputs": [
        {
          "output_type": "execute_result",
          "data": {
            "text/html": [
              "<div>\n",
              "<style scoped>\n",
              "    .dataframe tbody tr th:only-of-type {\n",
              "        vertical-align: middle;\n",
              "    }\n",
              "\n",
              "    .dataframe tbody tr th {\n",
              "        vertical-align: top;\n",
              "    }\n",
              "\n",
              "    .dataframe thead th {\n",
              "        text-align: right;\n",
              "    }\n",
              "</style>\n",
              "<table border=\"1\" class=\"dataframe\">\n",
              "  <thead>\n",
              "    <tr style=\"text-align: right;\">\n",
              "      <th></th>\n",
              "      <th>Type</th>\n",
              "      <th>Color of Button</th>\n",
              "      <th>Area</th>\n",
              "    </tr>\n",
              "  </thead>\n",
              "  <tbody>\n",
              "    <tr>\n",
              "      <th>0</th>\n",
              "      <td>0</td>\n",
              "      <td>[((27, 91, 61), 0.8577302631579029), ((33, 100...</td>\n",
              "      <td>4864</td>\n",
              "    </tr>\n",
              "    <tr>\n",
              "      <th>1</th>\n",
              "      <td>0</td>\n",
              "      <td>[((28, 71, 61), 0.8384615384615283), ((34, 100...</td>\n",
              "      <td>650</td>\n",
              "    </tr>\n",
              "  </tbody>\n",
              "</table>\n",
              "</div>"
            ],
            "text/plain": [
              "   Type                                    Color of Button  Area\n",
              "0     0  [((27, 91, 61), 0.8577302631579029), ((33, 100...  4864\n",
              "1     0  [((28, 71, 61), 0.8384615384615283), ((34, 100...   650"
            ]
          },
          "metadata": {
            "tags": []
          },
          "execution_count": 80
        }
      ]
    },
    {
      "cell_type": "code",
      "metadata": {
        "id": "PoKAVMoX6urT",
        "colab": {
          "base_uri": "https://localhost:8080/",
          "height": 77
        },
        "outputId": "b0f3cff3-f816-47f2-c707-6f01a55f7797"
      },
      "source": [
        "just_biggest_button = just_button.loc[just_button['Area'] == just_button['Area'].max()]#getmax\n",
        "just_biggest_button.head()"
      ],
      "execution_count": 81,
      "outputs": [
        {
          "output_type": "execute_result",
          "data": {
            "text/html": [
              "<div>\n",
              "<style scoped>\n",
              "    .dataframe tbody tr th:only-of-type {\n",
              "        vertical-align: middle;\n",
              "    }\n",
              "\n",
              "    .dataframe tbody tr th {\n",
              "        vertical-align: top;\n",
              "    }\n",
              "\n",
              "    .dataframe thead th {\n",
              "        text-align: right;\n",
              "    }\n",
              "</style>\n",
              "<table border=\"1\" class=\"dataframe\">\n",
              "  <thead>\n",
              "    <tr style=\"text-align: right;\">\n",
              "      <th></th>\n",
              "      <th>Type</th>\n",
              "      <th>Color of Button</th>\n",
              "      <th>Area</th>\n",
              "    </tr>\n",
              "  </thead>\n",
              "  <tbody>\n",
              "    <tr>\n",
              "      <th>0</th>\n",
              "      <td>0</td>\n",
              "      <td>[((27, 91, 61), 0.8577302631579029), ((33, 100...</td>\n",
              "      <td>4864</td>\n",
              "    </tr>\n",
              "  </tbody>\n",
              "</table>\n",
              "</div>"
            ],
            "text/plain": [
              "   Type                                    Color of Button  Area\n",
              "0     0  [((27, 91, 61), 0.8577302631579029), ((33, 100...  4864"
            ]
          },
          "metadata": {
            "tags": []
          },
          "execution_count": 81
        }
      ]
    },
    {
      "cell_type": "markdown",
      "metadata": {
        "id": "e4KoTzO0-6yf"
      },
      "source": [
        "##When there're more than 2 color with the same size"
      ]
    },
    {
      "cell_type": "code",
      "metadata": {
        "colab": {
          "base_uri": "https://localhost:8080/",
          "height": 77
        },
        "id": "mNEyzJByC8Ue",
        "outputId": "ba2364e3-87db-479f-da12-dd288ec76b8e"
      },
      "source": [
        "color_coverage = pd.DataFrame(colors,columns=['Color',\"coverage\"])\n",
        "color_coverage = color_coverage.loc[color_coverage['coverage'] == color_coverage['coverage'].max()]\n",
        "color_coverage "
      ],
      "execution_count": 82,
      "outputs": [
        {
          "output_type": "execute_result",
          "data": {
            "text/html": [
              "<div>\n",
              "<style scoped>\n",
              "    .dataframe tbody tr th:only-of-type {\n",
              "        vertical-align: middle;\n",
              "    }\n",
              "\n",
              "    .dataframe tbody tr th {\n",
              "        vertical-align: top;\n",
              "    }\n",
              "\n",
              "    .dataframe thead th {\n",
              "        text-align: right;\n",
              "    }\n",
              "</style>\n",
              "<table border=\"1\" class=\"dataframe\">\n",
              "  <thead>\n",
              "    <tr style=\"text-align: right;\">\n",
              "      <th></th>\n",
              "      <th>Color</th>\n",
              "      <th>coverage</th>\n",
              "    </tr>\n",
              "  </thead>\n",
              "  <tbody>\n",
              "    <tr>\n",
              "      <th>0</th>\n",
              "      <td>(27, 91, 61)</td>\n",
              "      <td>0.011777</td>\n",
              "    </tr>\n",
              "  </tbody>\n",
              "</table>\n",
              "</div>"
            ],
            "text/plain": [
              "          Color  coverage\n",
              "0  (27, 91, 61)  0.011777"
            ]
          },
          "metadata": {
            "tags": []
          },
          "execution_count": 82
        }
      ]
    },
    {
      "cell_type": "markdown",
      "metadata": {
        "id": "sx6ijo2Yr6cr"
      },
      "source": [
        "##Can't take primary color by size or % coverage"
      ]
    },
    {
      "cell_type": "code",
      "metadata": {
        "id": "kbSqt51GWspw",
        "colab": {
          "base_uri": "https://localhost:8080/"
        },
        "outputId": "7aaf450d-118b-4172-9f84-fac87768b0dd"
      },
      "source": [
        "list_color_of_button = pd.DataFrame(to_list(just_biggest_button), columns=['Color', 'coverage'])\n",
        "list_color_of_button = list_color_of_button.loc[list_color_of_button['coverage'] == list_color_of_button['coverage'].max()]\n",
        "color_coverage = pd.DataFrame(colors,columns=['Color',\"coverage\"])\n",
        "color_coverage = color_coverage.loc[color_coverage['coverage'] == color_coverage['coverage'].max()]\n",
        "if list_color_of_button.shape[0] == 1:\n",
        "  primary = list_color_of_button.iloc[[0],[0]].values[0][0] \n",
        "  list_primary.append(list_color_of_button.iloc[[0],[0]].values[0][0])\n",
        "elif color_coverage.shape[0] == 1:\n",
        "  primary = color_coverage.iloc[[0],[0]].values[0][0]\n",
        "  list_primary.append(color_coverage.iloc[[0],[0]].values[0][0])\n",
        "else:\n",
        "  primary = None\n",
        "  list_primary = [[]]\n",
        "list_primary"
      ],
      "execution_count": 83,
      "outputs": [
        {
          "output_type": "execute_result",
          "data": {
            "text/plain": [
              "[(27, 91, 61)]"
            ]
          },
          "metadata": {
            "tags": []
          },
          "execution_count": 83
        }
      ]
    },
    {
      "cell_type": "code",
      "metadata": {
        "id": "qK69-LLXPnNk",
        "colab": {
          "base_uri": "https://localhost:8080/"
        },
        "outputId": "b376f53e-3bd7-4689-ca09-e4f75f74e109"
      },
      "source": [
        "primary"
      ],
      "execution_count": 84,
      "outputs": [
        {
          "output_type": "execute_result",
          "data": {
            "text/plain": [
              "(27, 91, 61)"
            ]
          },
          "metadata": {
            "tags": []
          },
          "execution_count": 84
        }
      ]
    },
    {
      "cell_type": "code",
      "metadata": {
        "id": "vVDaWmSmUgcK",
        "colab": {
          "base_uri": "https://localhost:8080/"
        },
        "outputId": "b954c312-af61-40c5-adaf-1576f9b6eb4d"
      },
      "source": [
        "to_list(just_button)"
      ],
      "execution_count": 85,
      "outputs": [
        {
          "output_type": "execute_result",
          "data": {
            "text/plain": [
              "[((27, 91, 61), 0.8577302631579029),\n",
              " ((33, 100, 72), 0.01562500000000001),\n",
              " ((42, 100, 90), 0.001850328947368421),\n",
              " ((21, 96, 81), 0.00041118421052631577),\n",
              " ((28, 71, 61), 0.8384615384615283),\n",
              " ((34, 100, 79), 0.03846153846153845),\n",
              " ((22, 66, 61), 0.007692307692307693),\n",
              " ((42, 100, 83), 0.007692307692307693)]"
            ]
          },
          "metadata": {
            "tags": []
          },
          "execution_count": 85
        }
      ]
    },
    {
      "cell_type": "markdown",
      "metadata": {
        "id": "6W1S-_j2zIaa"
      },
      "source": [
        "#Take secondary"
      ]
    },
    {
      "cell_type": "markdown",
      "metadata": {
        "id": "WtJAwc9969sE"
      },
      "source": [
        "###Take secondary color according to color used for button (exclude primary color)(###)\n",
        "\n"
      ]
    },
    {
      "cell_type": "code",
      "metadata": {
        "id": "y3PKGBnc-H4i"
      },
      "source": [
        "#list of button\n",
        "list_color_of_button = pd.DataFrame(to_list(just_button), columns=['Color', 'coverage'])\n",
        "list_color_of_button = list_color_of_button.loc[list_color_of_button['Color'] != primary]#exclude primary\n",
        "list_color_of_button = list_color_of_button.sort_values(by=['coverage'],ascending=False)#sort\n",
        "#color\n",
        "color_coverage = pd.DataFrame(colors,columns=['Color',\"coverage\"])\n",
        "color = color_coverage.loc[color_coverage['Color'] != primary]#exclude primary\n",
        "color = color.sort_values(by=['coverage'],ascending=False)#sort"
      ],
      "execution_count": 86,
      "outputs": []
    },
    {
      "cell_type": "code",
      "metadata": {
        "id": "BNnKFUcLZn90",
        "colab": {
          "base_uri": "https://localhost:8080/"
        },
        "outputId": "25940e6b-6826-4b0e-b099-304f09364a99"
      },
      "source": [
        "primary"
      ],
      "execution_count": 87,
      "outputs": [
        {
          "output_type": "execute_result",
          "data": {
            "text/plain": [
              "(27, 91, 61)"
            ]
          },
          "metadata": {
            "tags": []
          },
          "execution_count": 87
        }
      ]
    },
    {
      "cell_type": "code",
      "metadata": {
        "id": "khTzEOonZnrJ",
        "colab": {
          "base_uri": "https://localhost:8080/"
        },
        "outputId": "4ca00ff1-157f-4395-961a-0c095dc1f8f7"
      },
      "source": [
        "coverage_to_list(list_color_of_button)"
      ],
      "execution_count": 88,
      "outputs": [
        {
          "output_type": "execute_result",
          "data": {
            "text/plain": [
              "[[(28, 71, 61), 0.8384615384615283],\n",
              " [(34, 100, 79), 0.03846153846153845],\n",
              " [(33, 100, 72), 0.01562500000000001],\n",
              " [(22, 66, 61), 0.007692307692307693],\n",
              " [(42, 100, 83), 0.007692307692307693],\n",
              " [(42, 100, 90), 0.001850328947368421],\n",
              " [(21, 96, 81), 0.00041118421052631577]]"
            ]
          },
          "metadata": {
            "tags": []
          },
          "execution_count": 88
        }
      ]
    },
    {
      "cell_type": "code",
      "metadata": {
        "id": "-bGYVlfJ_QbR",
        "colab": {
          "base_uri": "https://localhost:8080/"
        },
        "outputId": "ced4dc62-2dda-43f0-e000-f65cd275493b"
      },
      "source": [
        "coverage_to_list(list_color_of_button)\n",
        "color_list = delete_element(coverage_to_list(color),coverage_to_list(list_color_of_button))\n",
        "print(color_list)"
      ],
      "execution_count": 89,
      "outputs": [
        {
          "output_type": "stream",
          "text": [
            "[[(33, 100, 72), 0.0004729166666666653]]\n"
          ],
          "name": "stdout"
        }
      ]
    },
    {
      "cell_type": "markdown",
      "metadata": {
        "id": "Tfb0SdIiYbdN"
      },
      "source": [
        "##Take secondary color according to Colors used in logo *(not now)"
      ]
    },
    {
      "cell_type": "code",
      "metadata": {
        "id": "GzVElu3mX45l"
      },
      "source": [
        "color_logo = None"
      ],
      "execution_count": 90,
      "outputs": []
    },
    {
      "cell_type": "markdown",
      "metadata": {
        "id": "20CAZXrQZYIw"
      },
      "source": [
        "##Take secondary colors according to % coverage in the shortlist"
      ]
    },
    {
      "cell_type": "code",
      "metadata": {
        "id": "z46RvK7ySrXP",
        "colab": {
          "base_uri": "https://localhost:8080/"
        },
        "outputId": "9767fa23-ec6f-460d-a848-89e2235f5f78"
      },
      "source": [
        "#Take rest of color\n",
        "rest_of_color = rest_element(color_list,coverage_to_list(color))\n",
        "rest_of_color"
      ],
      "execution_count": 91,
      "outputs": [
        {
          "output_type": "execute_result",
          "data": {
            "text/plain": [
              "[[(58, 84, 68), 0.0009333333333333288],\n",
              " [(193, 100, 88), 0.0006104166666666641],\n",
              " [(197, 82, 87), 0.00021874999999999954],\n",
              " [(49, 82, 78), 0.00019374999999999964],\n",
              " [(17, 81, 70), 0.00016874999999999976],\n",
              " [(63, 79, 67), 7.500000000000002e-05],\n",
              " [(9, 89, 86), 4.583333333333335e-05],\n",
              " [(5, 92, 90), 6.25e-06],\n",
              " [(181, 100, 91), 2.0833333333333334e-06]]"
            ]
          },
          "metadata": {
            "tags": []
          },
          "execution_count": 91
        }
      ]
    },
    {
      "cell_type": "code",
      "metadata": {
        "id": "ueqTUlY8zLa4",
        "colab": {
          "base_uri": "https://localhost:8080/"
        },
        "outputId": "6480be7e-f298-4d42-e05e-d0a71bc03b01"
      },
      "source": [
        "list_secondary.append(make_second(soft_coverage(color_list),soft_coverage(color_logo),soft_coverage(rest_of_color)))\n",
        "list_secondary"
      ],
      "execution_count": 92,
      "outputs": [
        {
          "output_type": "execute_result",
          "data": {
            "text/plain": [
              "[[(33, 100, 72),\n",
              "  (58, 84, 68),\n",
              "  (193, 100, 88),\n",
              "  (197, 82, 87),\n",
              "  (49, 82, 78),\n",
              "  (17, 81, 70),\n",
              "  (63, 79, 67),\n",
              "  (9, 89, 86),\n",
              "  (5, 92, 90),\n",
              "  (181, 100, 91)]]"
            ]
          },
          "metadata": {
            "tags": []
          },
          "execution_count": 92
        }
      ]
    }
  ]
}