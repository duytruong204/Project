{
  "nbformat": 4,
  "nbformat_minor": 0,
  "metadata": {
    "colab": {
      "name": "Harmony detection.ipynb",
      "provenance": [],
      "collapsed_sections": [],
      "include_colab_link": true
    },
    "kernelspec": {
      "name": "python3",
      "display_name": "Python 3"
    },
    "language_info": {
      "name": "python"
    }
  },
  "cells": [
    {
      "cell_type": "markdown",
      "metadata": {
        "id": "view-in-github",
        "colab_type": "text"
      },
      "source": [
        "<a href=\"https://colab.research.google.com/github/duytruong204/Project/blob/main/Harmony_detection.ipynb\" target=\"_parent\"><img src=\"https://colab.research.google.com/assets/colab-badge.svg\" alt=\"Open In Colab\"/></a>"
      ]
    },
    {
      "cell_type": "code",
      "metadata": {
        "id": "LLl9S8ppNqnK"
      },
      "source": [
        "import time\n",
        "import pandas as pd\n",
        "import matplotlib.pyplot as plt\n",
        "import numpy as geek\n",
        "import math"
      ],
      "execution_count": null,
      "outputs": []
    },
    {
      "cell_type": "code",
      "metadata": {
        "id": "5pCcrZ36OJMj"
      },
      "source": [
        "#we're going to sort type according to heal point\n",
        "#Higher heal point is, nearer type harmony is"
      ],
      "execution_count": null,
      "outputs": []
    },
    {
      "cell_type": "markdown",
      "metadata": {
        "id": "Sw6TtOn1CB1Z"
      },
      "source": [
        "#Function"
      ]
    },
    {
      "cell_type": "code",
      "metadata": {
        "id": "PZqzTOxIFYlP"
      },
      "source": [
        "def find_between(list_1):\n",
        "  s = complex(0,0)\n",
        "  for hue_j in list_1:\n",
        "    x = 0.2 * math.cos(hue_j/180*math.pi)\n",
        "    y = 0.2 * math.sin(hue_j/180*math.pi)  \n",
        "    s = s+ complex(x,y)\n",
        "    out_angle = geek.angle(s, deg = True) \n",
        "  return trigonometric(out_angle)"
      ],
      "execution_count": null,
      "outputs": []
    },
    {
      "cell_type": "code",
      "metadata": {
        "id": "OHwUjdY-5Qv3"
      },
      "source": [
        "def find_opposite(hue_j,hue_i):\n",
        "  x0 = 0.2 * math.cos(hue_j/180*math.pi)\n",
        "  y0 = 0.2 * math.sin(hue_j/180*math.pi)\n",
        "  a = math.tan(hue_i/180*math.pi)\n",
        "  x = 2 * (x0 + a * y0)/(a**2 + 1) - x0\n",
        "  y = 2 * a* (x0 + a * y0)/(a**2 + 1) - y0\n",
        "  out_angle = geek.angle(complex(x,y), deg = True) \n",
        "  return trigonometric(out_angle)"
      ],
      "execution_count": null,
      "outputs": []
    },
    {
      "cell_type": "code",
      "metadata": {
        "id": "5rEMa1VfVxhm"
      },
      "source": [
        "def trigonometric(hue):\n",
        "  if hue > 180:\n",
        "    hue = hue - 360\n",
        "  elif hue < -180:\n",
        "    hue = hue + 360\n",
        "  return hue\n",
        "def trigonometric_of_list(list_hue):\n",
        "  lista = []\n",
        "  for ele in list_hue:\n",
        "    ele = trigonometric(ele)\n",
        "    lista.append(ele)\n",
        "  return lista\n",
        "def takehue(real_data):\n",
        "  x = real_data.values.tolist()\n",
        "  list_hue = []\n",
        "  for j in range(len(x)):\n",
        "    hue = []\n",
        "    hue.append(eval(x[j][0])[0])\n",
        "    for k in range(len(eval(x[j][1]))):\n",
        "      hue.append(eval(x[j][1])[k][0])\n",
        "    list_hue.append(hue)\n",
        "  return list_hue\n",
        "def take_nearest(outsider,List):\n",
        "  outsider = trigonometric(outsider)\n",
        "  List = trigonometric_of_list(List)\n",
        "  dis = []\n",
        "  bag = []\n",
        "  for ele in List:\n",
        "    bag.append(ele)\n",
        "    dis.append(abs(ele-outsider))\n",
        "  return bag[my_min(dis)],my_min(dis)\n",
        "def my_min(List):\n",
        "  try:\n",
        "    min = List[0]\n",
        "  except:\n",
        "    return None\n",
        "  for ele in List:\n",
        "    if ele < min:\n",
        "      min = ele\n",
        "  for i in range(len(List)):\n",
        "    if min == List[i]:\n",
        "      return i"
      ],
      "execution_count": null,
      "outputs": []
    },
    {
      "cell_type": "code",
      "metadata": {
        "id": "e7nRxXh8bsNt"
      },
      "source": [
        "def take_unique(list):\n",
        "  alist = []\n",
        "  for ele in list:\n",
        "    if not ele in alist:\n",
        "      alist.append(ele)\n",
        "  return alist"
      ],
      "execution_count": null,
      "outputs": []
    },
    {
      "cell_type": "code",
      "metadata": {
        "id": "0OOH-qRbwYqp"
      },
      "source": [
        "def check_bag(bag):\n",
        "  for ele in bag:\n",
        "    if len(ele) == 0:\n",
        "      return 0\n",
        "  return 1"
      ],
      "execution_count": null,
      "outputs": []
    },
    {
      "cell_type": "code",
      "metadata": {
        "id": "9w2s-BEvo3lv"
      },
      "source": [
        "def attack(hue,hue_fake):\n",
        "  hue_real = hue.copy()\n",
        "  hue_real = trigonometric_of_list(hue_real)\n",
        "  damage = 0\n",
        "  n = len(hue_fake)\n",
        "  bag = [0]*n\n",
        "  for i in range(n):\n",
        "    bag[i] = []\n",
        "  while len(hue_real) != 0:\n",
        "    k = take_nearest(trigonometric(hue_real[0]),hue_fake)\n",
        "    bag[k[1]].append(hue_real[0])\n",
        "    damage = damage + abs(k[0] - hue_real[0]) \n",
        "    del (hue_real[0])\n",
        "  return damage,check_bag(bag)"
      ],
      "execution_count": null,
      "outputs": []
    },
    {
      "cell_type": "code",
      "metadata": {
        "id": "FVXDIHH_TCgy"
      },
      "source": [
        "#need to filter\n",
        "#(0-180]:analogous,complementary\n",
        "#(180-360]:triad,square, Double split Complementary,Split complementary,analogous"
      ],
      "execution_count": null,
      "outputs": []
    },
    {
      "cell_type": "markdown",
      "metadata": {
        "id": "Z9zaeDkzYVOy"
      },
      "source": [
        "#Triad"
      ]
    },
    {
      "cell_type": "code",
      "metadata": {
        "id": "QLqSG9tfRkoy"
      },
      "source": [
        "def triad(hue):\n",
        "  crit = 360\n",
        "  hue = trigonometric_of_list(hue)\n",
        "  for hue_i in hue:\n",
        "    #create fake hue\n",
        "    hue_i = trigonometric(hue_i)\n",
        "    hue_k = trigonometric(hue_i + 120)\n",
        "    hue_h = trigonometric(hue_i + 240)\n",
        "    hue_fake = [hue_i,hue_k,hue_h]\n",
        "    x = attack(hue,hue_fake)\n",
        "    if x[1] == 0:\n",
        "      if crit < 360:\n",
        "        continue\n",
        "      else:\n",
        "        crit = 360\n",
        "        continue\n",
        "    else:\n",
        "      if crit > x[0]:\n",
        "        crit = x[0]\n",
        "  return crit,hue_fake"
      ],
      "execution_count": null,
      "outputs": []
    },
    {
      "cell_type": "code",
      "metadata": {
        "colab": {
          "base_uri": "https://localhost:8080/"
        },
        "id": "VB11NVjCgykI",
        "outputId": "72f5416d-4615-4e4e-b4a4-21d4db6a13bb"
      },
      "source": [
        "hue = [0,117,237]\n",
        "t = time.time()\n",
        "print(f'error = {triad(hue)}')\n",
        "print(f'Runtime: {time.time() - t}')"
      ],
      "execution_count": null,
      "outputs": [
        {
          "output_type": "stream",
          "text": [
            "error = 3\n",
            "Runtime: 0.0012445449829101562\n"
          ],
          "name": "stdout"
        }
      ]
    },
    {
      "cell_type": "markdown",
      "metadata": {
        "id": "I_YMbN3NYu0Q"
      },
      "source": [
        "#square"
      ]
    },
    {
      "cell_type": "code",
      "metadata": {
        "id": "WPfKuCS9XqHA"
      },
      "source": [
        "def square(hue):\n",
        "  hue = trigonometric_of_list(hue)\n",
        "  crit = 360\n",
        "  for hue_i in hue:\n",
        "    #create fake hue\n",
        "    hue_i = trigonometric(hue_i)\n",
        "    hue_k = trigonometric(hue_i + 90)\n",
        "    hue_h = trigonometric(hue_i + 180)\n",
        "    hue_g = trigonometric(hue_i + 270)\n",
        "    hue_fake = [hue_i,hue_k,hue_h,hue_g]\n",
        "    x = (attack(hue,hue_fake))\n",
        "    if x[1] == 0:\n",
        "      if crit < 360:\n",
        "        continue\n",
        "      else:\n",
        "        crit = 360\n",
        "        continue\n",
        "    else:\n",
        "      if crit > x[0]:\n",
        "        crit = x[0]\n",
        "  return crit, hue_fake"
      ],
      "execution_count": null,
      "outputs": []
    },
    {
      "cell_type": "code",
      "metadata": {
        "colab": {
          "base_uri": "https://localhost:8080/"
        },
        "id": "JMCgiP-Bin34",
        "outputId": "0ebd2884-e4ba-4606-d98d-a17228b06d75"
      },
      "source": [
        "hue = [90,180,0,0]\n",
        "t = time.time()\n",
        "print(f'error = {square(hue)}')\n",
        "print(f'Runtime: {time.time() - t}')"
      ],
      "execution_count": null,
      "outputs": [
        {
          "output_type": "stream",
          "text": [
            "error = 360\n",
            "Runtime: 0.0013818740844726562\n"
          ],
          "name": "stdout"
        }
      ]
    },
    {
      "cell_type": "markdown",
      "metadata": {
        "id": "PWcuYEt9qL5E"
      },
      "source": [
        "#Analogous(uncompleted)"
      ]
    },
    {
      "cell_type": "code",
      "metadata": {
        "id": "3gtQU4ET8E38"
      },
      "source": [
        "def analogous(hue):\n",
        "  #create a fake hue\n",
        "  crit = 360\n",
        "  hue = trigonometric_of_list(hue)\n",
        "  hue.sort()\n",
        "  hue = take_unique(hue)\n",
        "  for i in range(5):\n",
        "    if i == 5:\n",
        "      hua_fake = [hue[0],hue[-1],hue[0] + (hue[-1] - hue[0])/2,hue[0]+(hue[-1]+hue[0])/4,hue[0] + (hue[-1]+hue[0])/2+(hue[-1]+hue[0])/4]\n",
        "    elif i == 3:\n",
        "      hua_fake = [hue[0],hue[-1],(hue[-1]+hue[0])/2]\n",
        "    elif i == 4:\n",
        "      hua_fake = [hue[0],hue[-1],hue[0]+(hue[-1]-hue[0])/3,hue[0]+(hue[-1]-hue[0])/3*2]\n",
        "    else:\n",
        "      continue\n",
        "    x = (attack(hue,hua_fake))\n",
        "    if x[1] == 0:\n",
        "      if crit < 360:\n",
        "        a = 0\n",
        "      else:\n",
        "        crit = 360\n",
        "        a = 0\n",
        "    else:\n",
        "      if crit > x[0]:\n",
        "        crit = x[0]\n",
        "  return crit"
      ],
      "execution_count": null,
      "outputs": []
    },
    {
      "cell_type": "code",
      "metadata": {
        "colab": {
          "base_uri": "https://localhost:8080/"
        },
        "id": "X9BT_a_Mynsl",
        "outputId": "d55df27f-276e-4389-8069-32ed1336eaa1"
      },
      "source": [
        "hue = [24, 2, 354, 14, 342, 32]\n",
        "t = time.time()\n",
        "print(f'error = {analogous(hue)}')\n",
        "print(f'Runtime: {time.time() - t}')"
      ],
      "execution_count": null,
      "outputs": [
        {
          "output_type": "stream",
          "text": [
            "error = 17.333333333333336\n",
            "Runtime: 0.0015950202941894531\n"
          ],
          "name": "stdout"
        }
      ]
    },
    {
      "cell_type": "markdown",
      "metadata": {
        "id": "3bprmEw12cQe"
      },
      "source": [
        "#Complementary(Complementary,Split complementary, Double split Complementary)"
      ]
    },
    {
      "cell_type": "markdown",
      "metadata": {
        "id": "EQ_psmhnSzG6"
      },
      "source": [
        "##Complementary"
      ]
    },
    {
      "cell_type": "code",
      "metadata": {
        "id": "84faWL0FUQIZ"
      },
      "source": [
        "def Complementary(hue):\n",
        "  hue = trigonometric_of_list(hue)\n",
        "  crit = 360\n",
        "  heal = 360\n",
        "  for hue_i in hue:\n",
        "    #create fake hue\n",
        "    heal = 360\n",
        "    hue_i = trigonometric(hue_i)\n",
        "    hue_k = trigonometric(hue_i + 180)\n",
        "    hue_fake = [hue_i,hue_k]\n",
        "    x = (attack(hue,hue_fake))\n",
        "    if x[1] == 0:\n",
        "      if crit < 360:\n",
        "        continue\n",
        "      else:\n",
        "        crit = 360\n",
        "        continue\n",
        "    else:\n",
        "      if crit > x[0]:\n",
        "        crit = x[0]\n",
        "  return crit, hue_fake"
      ],
      "execution_count": null,
      "outputs": []
    },
    {
      "cell_type": "code",
      "metadata": {
        "colab": {
          "base_uri": "https://localhost:8080/"
        },
        "id": "rO2UOm097vPp",
        "outputId": "9d3cb773-69e6-48ef-97bd-05a199925a87"
      },
      "source": [
        "hue = [0, 9, 358, 24, 18, 204]\n",
        "t = time.time()\n",
        "print(f'error = {Complementary(hue)}')\n",
        "print(f'Runtime: {time.time() - t}')"
      ],
      "execution_count": null,
      "outputs": [
        {
          "output_type": "stream",
          "text": [
            "error = 59\n",
            "Runtime: 0.0013303756713867188\n"
          ],
          "name": "stdout"
        }
      ]
    },
    {
      "cell_type": "markdown",
      "metadata": {
        "id": "Kz4YsX-vS2Jh"
      },
      "source": [
        "##Split Complementary"
      ]
    },
    {
      "cell_type": "code",
      "metadata": {
        "id": "pbikl40tPpAe"
      },
      "source": [
        "def Split_Complementary(hue):\n",
        "  hue = trigonometric_of_list(hue)\n",
        "  crit = 360\n",
        "  hue.sort()\n",
        "  hue_i = sum(hue)/len(hue)\n",
        "  for hue_k in hue:\n",
        "    if hue_k != hue_i:\n",
        "      #create fake hue\n",
        "      heal = 360\n",
        "      hue_fake = [find_opposite(hue_k,hue_i),hue_i,hue_k]\n",
        "      x = (attack(hue,hue_fake))\n",
        "      if x[1] == 0:\n",
        "        if crit < 360:\n",
        "          continue\n",
        "        else:\n",
        "          crit = 360\n",
        "          continue\n",
        "      else:\n",
        "        if crit > x[0]:\n",
        "          crit = x[0]\n",
        "  return crit"
      ],
      "execution_count": null,
      "outputs": []
    },
    {
      "cell_type": "code",
      "metadata": {
        "colab": {
          "base_uri": "https://localhost:8080/"
        },
        "id": "b8RdU83nR4Oz",
        "outputId": "6bfa8b2d-a6e2-479a-d173-c953822a94ff"
      },
      "source": [
        "hue = [24, 2, 354, 14, 342, 32]\n",
        "t = time.time()\n",
        "print(f'error = {Split_Complementary(hue)}')\n",
        "print(f'Runtime: {time.time() - t}')"
      ],
      "execution_count": null,
      "outputs": [
        {
          "output_type": "stream",
          "text": [
            "error = 32.0\n",
            "Runtime: 0.003252267837524414\n"
          ],
          "name": "stdout"
        }
      ]
    },
    {
      "cell_type": "markdown",
      "metadata": {
        "id": "L19BVdOVTA7c"
      },
      "source": [
        "##Double split complementary"
      ]
    },
    {
      "cell_type": "code",
      "metadata": {
        "id": "mcZhhbTDTFCi"
      },
      "source": [
        "def Double_Split_Complementary(hue_real):\n",
        "  hue_real = trigonometric_of_list(hue_real)\n",
        "  hue = hue_real\n",
        "  hue.sort()\n",
        "  hue_real.sort()\n",
        "  crit = 360\n",
        "  for hue_i in hue:\n",
        "    hue_op_i = trigonometric(hue_i+180)\n",
        "    for hue_k in hue:\n",
        "      if hue_k != hue_i:\n",
        "        hue_op_k = trigonometric(hue_k+180)\n",
        "        myList = [hue_i,hue_op_i,hue_k,hue_op_k]\n",
        "        myList.sort()\n",
        "        list_outsider = [(myList[0]+myList[1])/2,\n",
        "                        (myList[1]+myList[2])/2,\n",
        "                        (myList[2]+myList[3])/2,\n",
        "                        (myList[3]+myList[0])/2,]\n",
        "        for hue_g in list_outsider:\n",
        "          hue_fake = [hue_op_i,hue_op_k,hue_i,hue_k,hue_g]\n",
        "          hue_fake.sort()\n",
        "          x = attack(hue_real,hue_fake)\n",
        "          if x[1] == 0:\n",
        "            if crit < 360:\n",
        "              continue\n",
        "            else:\n",
        "              crit = 360\n",
        "              continue\n",
        "          else:\n",
        "            if crit > x[0]:\n",
        "              crit = x[0] \n",
        "\n",
        "        hue_fake = [hue_op_i,hue_op_k,hue_i,hue_k]\n",
        "        hue_fake.sort()\n",
        "        x = attack(hue_real,hue_fake)\n",
        "        if x[1] == 0:\n",
        "          if crit < 360:\n",
        "            continue\n",
        "          else:\n",
        "            crit = 360\n",
        "            continue\n",
        "        else:\n",
        "          if crit > x[0]:\n",
        "            crit = x[0] \n",
        "  return crit, hue_fake"
      ],
      "execution_count": null,
      "outputs": []
    },
    {
      "cell_type": "code",
      "metadata": {
        "colab": {
          "base_uri": "https://localhost:8080/"
        },
        "id": "QSL-0Hb4XbvX",
        "outputId": "6c9e887e-b28b-4e8e-ed4b-742a130e9ef6"
      },
      "source": [
        "hue = [0, 9, 358, 24, 18, 204]\n",
        "t = time.time()\n",
        "print(f'error = {Double_Split_Complementary(hue)}')\n",
        "print(f'Runtime: {time.time() - t}')"
      ],
      "execution_count": null,
      "outputs": [
        {
          "output_type": "stream",
          "text": [
            "error = 360\n",
            "Runtime: 0.011251449584960938\n"
          ],
          "name": "stdout"
        }
      ]
    },
    {
      "cell_type": "markdown",
      "metadata": {
        "id": "nGyAJYkQZn7J"
      },
      "source": [
        "#Brise fan"
      ]
    },
    {
      "cell_type": "code",
      "metadata": {
        "id": "wD5YibeCZ7N3"
      },
      "source": [
        "def Brise_fan(hue):\n",
        "  #create a fake hue\n",
        "  crit = 360\n",
        "  heal = 360\n",
        "  hue = trigonometric_of_list(hue)\n",
        "  hue.sort()\n",
        "  for hue_i in hue:\n",
        "    for hue_j in hue:\n",
        "      for hue_k in hue:\n",
        "        hua_fake = [hue_i,hue_j,hue_k]\n",
        "        if len(hua_fake) == 0:\n",
        "          return 0\n",
        "        x = (attack(hue,hua_fake))\n",
        "        if x[1] == 0:\n",
        "          if crit < 360:\n",
        "            a = 0\n",
        "          else:\n",
        "            crit = 360\n",
        "            a = 0\n",
        "        else:\n",
        "          if crit > x[0]:\n",
        "            crit = x[0]\n",
        "  if heal - crit == 360:\n",
        "    return 360\n",
        "  return crit  "
      ],
      "execution_count": null,
      "outputs": []
    },
    {
      "cell_type": "markdown",
      "metadata": {
        "id": "3RnTEry2ZYMy"
      },
      "source": [
        "#Monotone  "
      ]
    },
    {
      "cell_type": "code",
      "metadata": {
        "id": "z3jvTv8MZ71e"
      },
      "source": [
        "def mono(hue):\n",
        "  #create a fake hue\n",
        "  crit = 360\n",
        "  heal = 360\n",
        "  hue = trigonometric_of_list(hue)\n",
        "  for hue_i in hue:\n",
        "    hua_fake = [hue_i]\n",
        "    if len(hua_fake) == 0:\n",
        "      return 0\n",
        "    x = (attack(hue,hua_fake))\n",
        "    if x[1] == 0:\n",
        "      if crit < 360:\n",
        "        a = 0\n",
        "      else:\n",
        "        crit = 360\n",
        "        a = 0\n",
        "    else:\n",
        "      if crit > x[0]:\n",
        "        crit = x[0]\n",
        "  return crit  "
      ],
      "execution_count": null,
      "outputs": []
    },
    {
      "cell_type": "code",
      "metadata": {
        "colab": {
          "base_uri": "https://localhost:8080/"
        },
        "id": "7oTZM9HbaOmY",
        "outputId": "9f56e262-962c-4920-9051-8f25ec68bd07"
      },
      "source": [
        "hue = [0, 180, 0]\n",
        "t = time.time()\n",
        "print(f'error = {mono(hue)}')\n",
        "print(f'Runtime: {time.time() - t}')"
      ],
      "execution_count": null,
      "outputs": [
        {
          "output_type": "stream",
          "text": [
            "error = 180\n",
            "Runtime: 0.0015795230865478516\n"
          ],
          "name": "stdout"
        }
      ]
    },
    {
      "cell_type": "markdown",
      "metadata": {
        "id": "fAmKbTfAbtYS"
      },
      "source": [
        "#Main"
      ]
    },
    {
      "cell_type": "code",
      "metadata": {
        "id": "2m6T0TnEbv2q"
      },
      "source": [
        "data = pd.read_csv(\"/content/ecommerce.csv\")"
      ],
      "execution_count": null,
      "outputs": []
    },
    {
      "cell_type": "code",
      "metadata": {
        "colab": {
          "base_uri": "https://localhost:8080/",
          "height": 402
        },
        "id": "JNnSjwGwcceG",
        "outputId": "0071936c-23ca-4540-e04e-4fae58b78767"
      },
      "source": [
        "data"
      ],
      "execution_count": null,
      "outputs": [
        {
          "output_type": "execute_result",
          "data": {
            "text/html": [
              "<div>\n",
              "<style scoped>\n",
              "    .dataframe tbody tr th:only-of-type {\n",
              "        vertical-align: middle;\n",
              "    }\n",
              "\n",
              "    .dataframe tbody tr th {\n",
              "        vertical-align: top;\n",
              "    }\n",
              "\n",
              "    .dataframe thead th {\n",
              "        text-align: right;\n",
              "    }\n",
              "</style>\n",
              "<table border=\"1\" class=\"dataframe\">\n",
              "  <thead>\n",
              "    <tr style=\"text-align: right;\">\n",
              "      <th></th>\n",
              "      <th>Primary</th>\n",
              "      <th>Secondary</th>\n",
              "      <th>Palette type</th>\n",
              "    </tr>\n",
              "  </thead>\n",
              "  <tbody>\n",
              "    <tr>\n",
              "      <th>0</th>\n",
              "      <td>(190, 67, 75)</td>\n",
              "      <td>[(236, 70, 74), (215, 66, 74), (209, 69, 76), ...</td>\n",
              "      <td>Colorful</td>\n",
              "    </tr>\n",
              "    <tr>\n",
              "      <th>1</th>\n",
              "      <td>(16, 37, 68)</td>\n",
              "      <td>[(207, 24, 50), (22, 22, 56), (9, 39, 68), (22...</td>\n",
              "      <td>Colorful</td>\n",
              "    </tr>\n",
              "    <tr>\n",
              "      <th>2</th>\n",
              "      <td>(260, 65, 82)</td>\n",
              "      <td>[(164, 64, 81), (214, 65, 82), (6, 65, 82), (1...</td>\n",
              "      <td>Colorful</td>\n",
              "    </tr>\n",
              "    <tr>\n",
              "      <th>3</th>\n",
              "      <td>(27, 91, 61)</td>\n",
              "      <td>[(33, 100, 72), (33, 100, 72)]</td>\n",
              "      <td>Colorful</td>\n",
              "    </tr>\n",
              "    <tr>\n",
              "      <th>4</th>\n",
              "      <td>(231, 100, 72)</td>\n",
              "      <td>[(209, 100, 92), (209, 100, 92)]</td>\n",
              "      <td>Colorful</td>\n",
              "    </tr>\n",
              "    <tr>\n",
              "      <th>...</th>\n",
              "      <td>...</td>\n",
              "      <td>...</td>\n",
              "      <td>...</td>\n",
              "    </tr>\n",
              "    <tr>\n",
              "      <th>843</th>\n",
              "      <td>(18, 87, 88)</td>\n",
              "      <td>[(49, 86, 89), (32, 86, 86), (15, 90, 88), (15...</td>\n",
              "      <td>Colorful</td>\n",
              "    </tr>\n",
              "    <tr>\n",
              "      <th>844</th>\n",
              "      <td>(11, 65, 63)</td>\n",
              "      <td>[(17, 61, 61), (5, 66, 63), (17, 61, 61), (5, ...</td>\n",
              "      <td>Colorful</td>\n",
              "    </tr>\n",
              "    <tr>\n",
              "      <th>845</th>\n",
              "      <td>(24, 75, 81)</td>\n",
              "      <td>[(2, 75, 81), (354, 74, 81), (14, 75, 81), (34...</td>\n",
              "      <td>Colorful</td>\n",
              "    </tr>\n",
              "    <tr>\n",
              "      <th>846</th>\n",
              "      <td>(36, 71, 73)</td>\n",
              "      <td>[(10, 71, 72), (5, 71, 73), (17, 69, 74), (30,...</td>\n",
              "      <td>Colorful</td>\n",
              "    </tr>\n",
              "    <tr>\n",
              "      <th>847</th>\n",
              "      <td>(41, 96, 28)</td>\n",
              "      <td>[(49, 96, 38), (35, 94, 27), (47, 100, 36), (6...</td>\n",
              "      <td>Colorful</td>\n",
              "    </tr>\n",
              "  </tbody>\n",
              "</table>\n",
              "<p>848 rows × 3 columns</p>\n",
              "</div>"
            ],
            "text/plain": [
              "            Primary  ... Palette type\n",
              "0     (190, 67, 75)  ...     Colorful\n",
              "1      (16, 37, 68)  ...     Colorful\n",
              "2     (260, 65, 82)  ...     Colorful\n",
              "3      (27, 91, 61)  ...     Colorful\n",
              "4    (231, 100, 72)  ...     Colorful\n",
              "..              ...  ...          ...\n",
              "843    (18, 87, 88)  ...     Colorful\n",
              "844    (11, 65, 63)  ...     Colorful\n",
              "845    (24, 75, 81)  ...     Colorful\n",
              "846    (36, 71, 73)  ...     Colorful\n",
              "847    (41, 96, 28)  ...     Colorful\n",
              "\n",
              "[848 rows x 3 columns]"
            ]
          },
          "metadata": {
            "tags": []
          },
          "execution_count": 63
        }
      ]
    },
    {
      "cell_type": "code",
      "metadata": {
        "colab": {
          "base_uri": "https://localhost:8080/",
          "height": 402
        },
        "id": "oZfEW7YqcFDI",
        "outputId": "2bec911e-ef96-4f0a-9736-7b7fb3f49be8"
      },
      "source": [
        "data = data.loc[data['Primary'] != '[]'].loc[data['Secondary'] != '[]']\n",
        "data"
      ],
      "execution_count": null,
      "outputs": [
        {
          "output_type": "execute_result",
          "data": {
            "text/html": [
              "<div>\n",
              "<style scoped>\n",
              "    .dataframe tbody tr th:only-of-type {\n",
              "        vertical-align: middle;\n",
              "    }\n",
              "\n",
              "    .dataframe tbody tr th {\n",
              "        vertical-align: top;\n",
              "    }\n",
              "\n",
              "    .dataframe thead th {\n",
              "        text-align: right;\n",
              "    }\n",
              "</style>\n",
              "<table border=\"1\" class=\"dataframe\">\n",
              "  <thead>\n",
              "    <tr style=\"text-align: right;\">\n",
              "      <th></th>\n",
              "      <th>Primary</th>\n",
              "      <th>Secondary</th>\n",
              "      <th>Palette type</th>\n",
              "    </tr>\n",
              "  </thead>\n",
              "  <tbody>\n",
              "    <tr>\n",
              "      <th>0</th>\n",
              "      <td>(190, 67, 75)</td>\n",
              "      <td>[(236, 70, 74), (215, 66, 74), (209, 69, 76), ...</td>\n",
              "      <td>Colorful</td>\n",
              "    </tr>\n",
              "    <tr>\n",
              "      <th>1</th>\n",
              "      <td>(16, 37, 68)</td>\n",
              "      <td>[(207, 24, 50), (22, 22, 56), (9, 39, 68), (22...</td>\n",
              "      <td>Colorful</td>\n",
              "    </tr>\n",
              "    <tr>\n",
              "      <th>2</th>\n",
              "      <td>(260, 65, 82)</td>\n",
              "      <td>[(164, 64, 81), (214, 65, 82), (6, 65, 82), (1...</td>\n",
              "      <td>Colorful</td>\n",
              "    </tr>\n",
              "    <tr>\n",
              "      <th>3</th>\n",
              "      <td>(27, 91, 61)</td>\n",
              "      <td>[(33, 100, 72), (33, 100, 72)]</td>\n",
              "      <td>Colorful</td>\n",
              "    </tr>\n",
              "    <tr>\n",
              "      <th>4</th>\n",
              "      <td>(231, 100, 72)</td>\n",
              "      <td>[(209, 100, 92), (209, 100, 92)]</td>\n",
              "      <td>Colorful</td>\n",
              "    </tr>\n",
              "    <tr>\n",
              "      <th>...</th>\n",
              "      <td>...</td>\n",
              "      <td>...</td>\n",
              "      <td>...</td>\n",
              "    </tr>\n",
              "    <tr>\n",
              "      <th>843</th>\n",
              "      <td>(18, 87, 88)</td>\n",
              "      <td>[(49, 86, 89), (32, 86, 86), (15, 90, 88), (15...</td>\n",
              "      <td>Colorful</td>\n",
              "    </tr>\n",
              "    <tr>\n",
              "      <th>844</th>\n",
              "      <td>(11, 65, 63)</td>\n",
              "      <td>[(17, 61, 61), (5, 66, 63), (17, 61, 61), (5, ...</td>\n",
              "      <td>Colorful</td>\n",
              "    </tr>\n",
              "    <tr>\n",
              "      <th>845</th>\n",
              "      <td>(24, 75, 81)</td>\n",
              "      <td>[(2, 75, 81), (354, 74, 81), (14, 75, 81), (34...</td>\n",
              "      <td>Colorful</td>\n",
              "    </tr>\n",
              "    <tr>\n",
              "      <th>846</th>\n",
              "      <td>(36, 71, 73)</td>\n",
              "      <td>[(10, 71, 72), (5, 71, 73), (17, 69, 74), (30,...</td>\n",
              "      <td>Colorful</td>\n",
              "    </tr>\n",
              "    <tr>\n",
              "      <th>847</th>\n",
              "      <td>(41, 96, 28)</td>\n",
              "      <td>[(49, 96, 38), (35, 94, 27), (47, 100, 36), (6...</td>\n",
              "      <td>Colorful</td>\n",
              "    </tr>\n",
              "  </tbody>\n",
              "</table>\n",
              "<p>814 rows × 3 columns</p>\n",
              "</div>"
            ],
            "text/plain": [
              "            Primary  ... Palette type\n",
              "0     (190, 67, 75)  ...     Colorful\n",
              "1      (16, 37, 68)  ...     Colorful\n",
              "2     (260, 65, 82)  ...     Colorful\n",
              "3      (27, 91, 61)  ...     Colorful\n",
              "4    (231, 100, 72)  ...     Colorful\n",
              "..              ...  ...          ...\n",
              "843    (18, 87, 88)  ...     Colorful\n",
              "844    (11, 65, 63)  ...     Colorful\n",
              "845    (24, 75, 81)  ...     Colorful\n",
              "846    (36, 71, 73)  ...     Colorful\n",
              "847    (41, 96, 28)  ...     Colorful\n",
              "\n",
              "[814 rows x 3 columns]"
            ]
          },
          "metadata": {
            "tags": []
          },
          "execution_count": 64
        }
      ]
    },
    {
      "cell_type": "code",
      "metadata": {
        "id": "sdDhr5WSclZF"
      },
      "source": [
        "x = takehue(data)"
      ],
      "execution_count": null,
      "outputs": []
    },
    {
      "cell_type": "code",
      "metadata": {
        "id": "-YTp5li_c3Na"
      },
      "source": [
        "list_r = []\n",
        "for i  in range(len(x)):\n",
        "  list_r.append(min(triad(x[i])[0],square(x[i])[0],analogous(x[i]),Complementary(x[i]),\n",
        "    Split_Complementary(x[i]),Double_Split_Complementary(x[i]),\n",
        "    mono(x[i])))\n",
        "  \n",
        "list_type = []\n",
        "for i in range(len(x)):\n",
        "  if list_r[i] == triad(x[i])[0]:\n",
        "    list_type.append(\"Triad\")\n",
        "  elif list_r[i] == square(x[i])[0]:\n",
        "    list_type.append(\"Square\")\n",
        "  elif list_r[i] == analogous(x[i]) and list_r[i] < 50:\n",
        "    list_type.append(\"Analogous\")\n",
        "  elif list_r[i] == Complementary(x[i])[0]:\n",
        "    list_type.append(\"Complementary\")\n",
        "  elif list_r[i] == Split_Complementary(x[i]):\n",
        "    list_type.append(\"Split Complementary\")\n",
        "  elif list_r[i] == Double_Split_Complementary(x[i]):\n",
        "    list_type.append(\"Double Split Complementary\")\n",
        "  elif list_r[i] == mono(x[i]):\n",
        "    list_type.append(\"None\")\n",
        "  else:\n",
        "    list_type.append(\"Brise fan\")"
      ],
      "execution_count": null,
      "outputs": []
    },
    {
      "cell_type": "code",
      "metadata": {
        "id": "XM9AVgqchR2f"
      },
      "source": [
        "data['harmony'] = list_type"
      ],
      "execution_count": null,
      "outputs": []
    },
    {
      "cell_type": "code",
      "metadata": {
        "id": "yS5qQCtciKDq"
      },
      "source": [
        "data['Error'] = list_r"
      ],
      "execution_count": null,
      "outputs": []
    },
    {
      "cell_type": "code",
      "metadata": {
        "colab": {
          "base_uri": "https://localhost:8080/",
          "height": 405
        },
        "id": "4hKPcLmzhbCE",
        "outputId": "4978c8e4-b27d-47a4-90e5-87d794bce7f3"
      },
      "source": [
        "data"
      ],
      "execution_count": null,
      "outputs": [
        {
          "output_type": "execute_result",
          "data": {
            "text/html": [
              "<div>\n",
              "<style scoped>\n",
              "    .dataframe tbody tr th:only-of-type {\n",
              "        vertical-align: middle;\n",
              "    }\n",
              "\n",
              "    .dataframe tbody tr th {\n",
              "        vertical-align: top;\n",
              "    }\n",
              "\n",
              "    .dataframe thead th {\n",
              "        text-align: right;\n",
              "    }\n",
              "</style>\n",
              "<table border=\"1\" class=\"dataframe\">\n",
              "  <thead>\n",
              "    <tr style=\"text-align: right;\">\n",
              "      <th></th>\n",
              "      <th>Primary</th>\n",
              "      <th>Secondary</th>\n",
              "      <th>Palette type</th>\n",
              "      <th>harmony</th>\n",
              "      <th>Error</th>\n",
              "    </tr>\n",
              "  </thead>\n",
              "  <tbody>\n",
              "    <tr>\n",
              "      <th>0</th>\n",
              "      <td>(190, 67, 75)</td>\n",
              "      <td>[(236, 70, 74), (215, 66, 74), (209, 69, 76), ...</td>\n",
              "      <td>Colorful</td>\n",
              "      <td>Complementary</td>\n",
              "      <td>113.000000</td>\n",
              "    </tr>\n",
              "    <tr>\n",
              "      <th>1</th>\n",
              "      <td>(16, 37, 68)</td>\n",
              "      <td>[(207, 24, 50), (22, 22, 56), (9, 39, 68), (22...</td>\n",
              "      <td>Colorful</td>\n",
              "      <td>Complementary</td>\n",
              "      <td>69.000000</td>\n",
              "    </tr>\n",
              "    <tr>\n",
              "      <th>2</th>\n",
              "      <td>(260, 65, 82)</td>\n",
              "      <td>[(164, 64, 81), (214, 65, 82), (6, 65, 82), (1...</td>\n",
              "      <td>Colorful</td>\n",
              "      <td>Double Split Complementary</td>\n",
              "      <td>57.000000</td>\n",
              "    </tr>\n",
              "    <tr>\n",
              "      <th>3</th>\n",
              "      <td>(27, 91, 61)</td>\n",
              "      <td>[(33, 100, 72), (33, 100, 72)]</td>\n",
              "      <td>Colorful</td>\n",
              "      <td>None</td>\n",
              "      <td>6.000000</td>\n",
              "    </tr>\n",
              "    <tr>\n",
              "      <th>4</th>\n",
              "      <td>(231, 100, 72)</td>\n",
              "      <td>[(209, 100, 92), (209, 100, 92)]</td>\n",
              "      <td>Colorful</td>\n",
              "      <td>None</td>\n",
              "      <td>22.000000</td>\n",
              "    </tr>\n",
              "    <tr>\n",
              "      <th>...</th>\n",
              "      <td>...</td>\n",
              "      <td>...</td>\n",
              "      <td>...</td>\n",
              "      <td>...</td>\n",
              "      <td>...</td>\n",
              "    </tr>\n",
              "    <tr>\n",
              "      <th>809</th>\n",
              "      <td>(18, 87, 88)</td>\n",
              "      <td>[(49, 86, 89), (32, 86, 86), (15, 90, 88), (15...</td>\n",
              "      <td>Colorful</td>\n",
              "      <td>Brise fan</td>\n",
              "      <td>120.000000</td>\n",
              "    </tr>\n",
              "    <tr>\n",
              "      <th>810</th>\n",
              "      <td>(11, 65, 63)</td>\n",
              "      <td>[(17, 61, 61), (5, 66, 63), (17, 61, 61), (5, ...</td>\n",
              "      <td>Colorful</td>\n",
              "      <td>Analogous</td>\n",
              "      <td>0.000000</td>\n",
              "    </tr>\n",
              "    <tr>\n",
              "      <th>811</th>\n",
              "      <td>(24, 75, 81)</td>\n",
              "      <td>[(2, 75, 81), (354, 74, 81), (14, 75, 81), (34...</td>\n",
              "      <td>Colorful</td>\n",
              "      <td>Analogous</td>\n",
              "      <td>17.333333</td>\n",
              "    </tr>\n",
              "    <tr>\n",
              "      <th>812</th>\n",
              "      <td>(36, 71, 73)</td>\n",
              "      <td>[(10, 71, 72), (5, 71, 73), (17, 69, 74), (30,...</td>\n",
              "      <td>Colorful</td>\n",
              "      <td>Split Complementary</td>\n",
              "      <td>19.000000</td>\n",
              "    </tr>\n",
              "    <tr>\n",
              "      <th>813</th>\n",
              "      <td>(41, 96, 28)</td>\n",
              "      <td>[(49, 96, 38), (35, 94, 27), (47, 100, 36), (6...</td>\n",
              "      <td>Colorful</td>\n",
              "      <td>Analogous</td>\n",
              "      <td>13.333333</td>\n",
              "    </tr>\n",
              "  </tbody>\n",
              "</table>\n",
              "<p>814 rows × 5 columns</p>\n",
              "</div>"
            ],
            "text/plain": [
              "            Primary  ...       Error\n",
              "0     (190, 67, 75)  ...  113.000000\n",
              "1      (16, 37, 68)  ...   69.000000\n",
              "2     (260, 65, 82)  ...   57.000000\n",
              "3      (27, 91, 61)  ...    6.000000\n",
              "4    (231, 100, 72)  ...   22.000000\n",
              "..              ...  ...         ...\n",
              "809    (18, 87, 88)  ...  120.000000\n",
              "810    (11, 65, 63)  ...    0.000000\n",
              "811    (24, 75, 81)  ...   17.333333\n",
              "812    (36, 71, 73)  ...   19.000000\n",
              "813    (41, 96, 28)  ...   13.333333\n",
              "\n",
              "[814 rows x 5 columns]"
            ]
          },
          "metadata": {
            "tags": []
          },
          "execution_count": 110
        }
      ]
    },
    {
      "cell_type": "code",
      "metadata": {
        "id": "MkW4D43A-mcX"
      },
      "source": [
        "data.reset_index(inplace = True, drop = True)"
      ],
      "execution_count": null,
      "outputs": []
    },
    {
      "cell_type": "code",
      "metadata": {
        "colab": {
          "base_uri": "https://localhost:8080/",
          "height": 264
        },
        "id": "qrRyYYvshqcu",
        "outputId": "20fa4fdd-a290-4aef-f11c-d8af62614ac3"
      },
      "source": [
        "y = data.iloc[:,[4]].values\n",
        "plt.hist(y)\n",
        "plt.show()"
      ],
      "execution_count": null,
      "outputs": [
        {
          "output_type": "display_data",
          "data": {
            "image/png": "[encoded data removed]",
            "text/plain": [
              "<Figure size 432x288 with 1 Axes>"
            ]
          },
          "metadata": {
            "tags": [],
            "needs_background": "light"
          }
        }
      ]
    },
    {
      "cell_type": "code",
      "metadata": {
        "colab": {
          "base_uri": "https://localhost:8080/",
          "height": 316
        },
        "id": "Zj8C72XL9cZM",
        "outputId": "54d1a2ed-529a-4795-c987-7ac6334bbf70"
      },
      "source": [
        "pd.crosstab(index=data['harmony'], columns='count')"
      ],
      "execution_count": null,
      "outputs": [
        {
          "output_type": "execute_result",
          "data": {
            "text/html": [
              "<div>\n",
              "<style scoped>\n",
              "    .dataframe tbody tr th:only-of-type {\n",
              "        vertical-align: middle;\n",
              "    }\n",
              "\n",
              "    .dataframe tbody tr th {\n",
              "        vertical-align: top;\n",
              "    }\n",
              "\n",
              "    .dataframe thead th {\n",
              "        text-align: right;\n",
              "    }\n",
              "</style>\n",
              "<table border=\"1\" class=\"dataframe\">\n",
              "  <thead>\n",
              "    <tr style=\"text-align: right;\">\n",
              "      <th>col_0</th>\n",
              "      <th>count</th>\n",
              "    </tr>\n",
              "    <tr>\n",
              "      <th>harmony</th>\n",
              "      <th></th>\n",
              "    </tr>\n",
              "  </thead>\n",
              "  <tbody>\n",
              "    <tr>\n",
              "      <th>Analogous</th>\n",
              "      <td>349</td>\n",
              "    </tr>\n",
              "    <tr>\n",
              "      <th>Brise fan</th>\n",
              "      <td>69</td>\n",
              "    </tr>\n",
              "    <tr>\n",
              "      <th>Complementary</th>\n",
              "      <td>151</td>\n",
              "    </tr>\n",
              "    <tr>\n",
              "      <th>Double Split Complementary</th>\n",
              "      <td>86</td>\n",
              "    </tr>\n",
              "    <tr>\n",
              "      <th>None</th>\n",
              "      <td>92</td>\n",
              "    </tr>\n",
              "    <tr>\n",
              "      <th>Split Complementary</th>\n",
              "      <td>57</td>\n",
              "    </tr>\n",
              "    <tr>\n",
              "      <th>Square</th>\n",
              "      <td>1</td>\n",
              "    </tr>\n",
              "    <tr>\n",
              "      <th>Triad</th>\n",
              "      <td>9</td>\n",
              "    </tr>\n",
              "  </tbody>\n",
              "</table>\n",
              "</div>"
            ],
            "text/plain": [
              "col_0                       count\n",
              "harmony                          \n",
              "Analogous                     349\n",
              "Brise fan                      69\n",
              "Complementary                 151\n",
              "Double Split Complementary     86\n",
              "None                           92\n",
              "Split Complementary            57\n",
              "Square                          1\n",
              "Triad                           9"
            ]
          },
          "metadata": {
            "tags": []
          },
          "execution_count": 113
        }
      ]
    },
    {
      "cell_type": "code",
      "metadata": {
        "colab": {
          "base_uri": "https://localhost:8080/",
          "height": 405
        },
        "id": "jg27iIe5hKDc",
        "outputId": "b36ceeb5-d131-4326-a46c-5209bfe6b763"
      },
      "source": [
        "data.loc[data['harmony'] == 'Analogous']"
      ],
      "execution_count": null,
      "outputs": [
        {
          "output_type": "execute_result",
          "data": {
            "text/html": [
              "<div>\n",
              "<style scoped>\n",
              "    .dataframe tbody tr th:only-of-type {\n",
              "        vertical-align: middle;\n",
              "    }\n",
              "\n",
              "    .dataframe tbody tr th {\n",
              "        vertical-align: top;\n",
              "    }\n",
              "\n",
              "    .dataframe thead th {\n",
              "        text-align: right;\n",
              "    }\n",
              "</style>\n",
              "<table border=\"1\" class=\"dataframe\">\n",
              "  <thead>\n",
              "    <tr style=\"text-align: right;\">\n",
              "      <th></th>\n",
              "      <th>Primary</th>\n",
              "      <th>Secondary</th>\n",
              "      <th>Palette type</th>\n",
              "      <th>harmony</th>\n",
              "      <th>Error</th>\n",
              "    </tr>\n",
              "  </thead>\n",
              "  <tbody>\n",
              "    <tr>\n",
              "      <th>6</th>\n",
              "      <td>(217, 48, 75)</td>\n",
              "      <td>[(210, 48, 75), (223, 48, 75), (204, 42, 72)]</td>\n",
              "      <td>Colorful</td>\n",
              "      <td>Analogous</td>\n",
              "      <td>0.666667</td>\n",
              "    </tr>\n",
              "    <tr>\n",
              "      <th>11</th>\n",
              "      <td>(254, 81, 58)</td>\n",
              "      <td>[(260, 100, 79), (275, 100, 90), (260, 100, 79...</td>\n",
              "      <td>Colorful</td>\n",
              "      <td>Analogous</td>\n",
              "      <td>4.500000</td>\n",
              "    </tr>\n",
              "    <tr>\n",
              "      <th>13</th>\n",
              "      <td>(5, 100, 73)</td>\n",
              "      <td>[(356, 100, 73), (359, 100, 73), (347, 54, 62)...</td>\n",
              "      <td>Colorful</td>\n",
              "      <td>Analogous</td>\n",
              "      <td>11.000000</td>\n",
              "    </tr>\n",
              "    <tr>\n",
              "      <th>14</th>\n",
              "      <td>(4, 29, 39)</td>\n",
              "      <td>[(61, 29, 39), (15, 27, 41), (23, 29, 39), (79...</td>\n",
              "      <td>Colorful</td>\n",
              "      <td>Analogous</td>\n",
              "      <td>27.000000</td>\n",
              "    </tr>\n",
              "    <tr>\n",
              "      <th>15</th>\n",
              "      <td>(27, 80, 60)</td>\n",
              "      <td>[(33, 72, 69), (44, 100, 81), (40, 100, 81), (...</td>\n",
              "      <td>Colorful</td>\n",
              "      <td>Analogous</td>\n",
              "      <td>10.000000</td>\n",
              "    </tr>\n",
              "    <tr>\n",
              "      <th>...</th>\n",
              "      <td>...</td>\n",
              "      <td>...</td>\n",
              "      <td>...</td>\n",
              "      <td>...</td>\n",
              "      <td>...</td>\n",
              "    </tr>\n",
              "    <tr>\n",
              "      <th>805</th>\n",
              "      <td>(27, 33, 67)</td>\n",
              "      <td>[(20, 38, 64), (6, 64, 49), (15, 21, 46), (37,...</td>\n",
              "      <td>Colorful</td>\n",
              "      <td>Analogous</td>\n",
              "      <td>16.000000</td>\n",
              "    </tr>\n",
              "    <tr>\n",
              "      <th>807</th>\n",
              "      <td>(23, 75, 81)</td>\n",
              "      <td>[(318, 91, 62), (338, 79, 45), (30, 73, 81), (...</td>\n",
              "      <td>Colorful</td>\n",
              "      <td>Analogous</td>\n",
              "      <td>47.000000</td>\n",
              "    </tr>\n",
              "    <tr>\n",
              "      <th>810</th>\n",
              "      <td>(11, 65, 63)</td>\n",
              "      <td>[(17, 61, 61), (5, 66, 63), (17, 61, 61), (5, ...</td>\n",
              "      <td>Colorful</td>\n",
              "      <td>Analogous</td>\n",
              "      <td>0.000000</td>\n",
              "    </tr>\n",
              "    <tr>\n",
              "      <th>811</th>\n",
              "      <td>(24, 75, 81)</td>\n",
              "      <td>[(2, 75, 81), (354, 74, 81), (14, 75, 81), (34...</td>\n",
              "      <td>Colorful</td>\n",
              "      <td>Analogous</td>\n",
              "      <td>17.333333</td>\n",
              "    </tr>\n",
              "    <tr>\n",
              "      <th>813</th>\n",
              "      <td>(41, 96, 28)</td>\n",
              "      <td>[(49, 96, 38), (35, 94, 27), (47, 100, 36), (6...</td>\n",
              "      <td>Colorful</td>\n",
              "      <td>Analogous</td>\n",
              "      <td>13.333333</td>\n",
              "    </tr>\n",
              "  </tbody>\n",
              "</table>\n",
              "<p>349 rows × 5 columns</p>\n",
              "</div>"
            ],
            "text/plain": [
              "           Primary  ...      Error\n",
              "6    (217, 48, 75)  ...   0.666667\n",
              "11   (254, 81, 58)  ...   4.500000\n",
              "13    (5, 100, 73)  ...  11.000000\n",
              "14     (4, 29, 39)  ...  27.000000\n",
              "15    (27, 80, 60)  ...  10.000000\n",
              "..             ...  ...        ...\n",
              "805   (27, 33, 67)  ...  16.000000\n",
              "807   (23, 75, 81)  ...  47.000000\n",
              "810   (11, 65, 63)  ...   0.000000\n",
              "811   (24, 75, 81)  ...  17.333333\n",
              "813   (41, 96, 28)  ...  13.333333\n",
              "\n",
              "[349 rows x 5 columns]"
            ]
          },
          "metadata": {
            "tags": []
          },
          "execution_count": 125
        }
      ]
    },
    {
      "cell_type": "code",
      "metadata": {
        "colab": {
          "base_uri": "https://localhost:8080/",
          "height": 315
        },
        "id": "ygYBb79DyqEQ",
        "outputId": "d6e563bf-bf76-4f2d-b86f-0f130aec2c69"
      },
      "source": [
        "import numpy as np\n",
        "import matplotlib.pyplot as plt\n",
        "import math \n",
        "\n",
        "j = 808\n",
        "\n",
        "print(f'List:{x[j]}')\n",
        "print(f'Harmony rule = {data.iloc[[j],[3]].values[0][0]}')\n",
        "print(f'error = {data.iloc[[j],[4]].values[0][0]}')\n",
        "for i in range(len(x[j])):\n",
        "  x1, y1 = [0, 0.2*math.cos(x[j][i]/180*math.pi)], [0, 0.2*math.sin(x[j][i]/180*math.pi)]               \n",
        "  plt.plot(x1, y1, color='black')\n",
        "\n",
        "circle1 = plt.Circle((0, 0), 0.2, color='black', fill=False)\n",
        "plt.gca().add_patch(circle1 )\n",
        "\n",
        "m = Double_Split_Complementary(x[j])[1]\n",
        "for i in range(len(m)):\n",
        "  x1, y1 = [0, 0.2*math.cos(m[i]/180*math.pi)], [0, 0.2*math.sin(m[i]/180*math.pi)]               \n",
        "  plt.plot(x1, y1, color = 'red',  linestyle='--')\n",
        "\n",
        "plt.show()"
      ],
      "execution_count": null,
      "outputs": [
        {
          "output_type": "stream",
          "text": [
            "List:[15, 195, 190, 201, 7, 21]\n",
            "Harmony rule = Double Split Complementary\n",
            "error = 8.5\n"
          ],
          "name": "stdout"
        },
        {
          "output_type": "display_data",
          "data": {
            "image/png": "[encoded data removed]",
            "text/plain": [
              "<Figure size 432x288 with 1 Axes>"
            ]
          },
          "metadata": {
            "tags": [],
            "needs_background": "light"
          }
        }
      ]
    }
  ]
}